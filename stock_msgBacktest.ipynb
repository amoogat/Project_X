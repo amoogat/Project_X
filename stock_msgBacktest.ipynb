{
 "cells": [
  {
   "cell_type": "code",
   "execution_count": 2,
   "metadata": {},
   "outputs": [],
   "source": [
    "import pandas as pd"
   ]
  },
  {
   "cell_type": "code",
   "execution_count": 102,
   "metadata": {
    "scrolled": true
   },
   "outputs": [
    {
     "data": {
      "text/html": [
       "<div>\n",
       "<style scoped>\n",
       "    .dataframe tbody tr th:only-of-type {\n",
       "        vertical-align: middle;\n",
       "    }\n",
       "\n",
       "    .dataframe tbody tr th {\n",
       "        vertical-align: top;\n",
       "    }\n",
       "\n",
       "    .dataframe thead th {\n",
       "        text-align: right;\n",
       "    }\n",
       "</style>\n",
       "<table border=\"1\" class=\"dataframe\">\n",
       "  <thead>\n",
       "    <tr style=\"text-align: right;\">\n",
       "      <th></th>\n",
       "      <th>Unnamed: 0</th>\n",
       "      <th>Username</th>\n",
       "      <th>Message</th>\n",
       "      <th>Timestamp</th>\n",
       "      <th>ChatGPT_Response</th>\n",
       "    </tr>\n",
       "  </thead>\n",
       "  <tbody>\n",
       "    <tr>\n",
       "      <th>0</th>\n",
       "      <td>0</td>\n",
       "      <td>Waxui Alerts 🍭</td>\n",
       "      <td>AMD Day Trade idea Bit of an early Lotto idea ...</td>\n",
       "      <td>2024-01-24T22:46:10.450000+00:00</td>\n",
       "      <td>Neither No Ticker Found. The message does not ...</td>\n",
       "    </tr>\n",
       "    <tr>\n",
       "      <th>1</th>\n",
       "      <td>1</td>\n",
       "      <td>Waxui Alerts 🍭</td>\n",
       "      <td>Closed SNOW hereSolid catch</td>\n",
       "      <td>2023-07-14T14:05:13.101000+00:00</td>\n",
       "      <td>No Ticker Found</td>\n",
       "    </tr>\n",
       "    <tr>\n",
       "      <th>2</th>\n",
       "      <td>2</td>\n",
       "      <td>Waxui Alerts 🍭</td>\n",
       "      <td>Chip Chop Sitting back</td>\n",
       "      <td>2023-12-15T17:20:50.715000+00:00</td>\n",
       "      <td>No Ticker Found</td>\n",
       "    </tr>\n",
       "    <tr>\n",
       "      <th>3</th>\n",
       "      <td>3</td>\n",
       "      <td>Market Bishop</td>\n",
       "      <td>I'm entering</td>\n",
       "      <td>2024-03-22T16:23:53.904000+00:00</td>\n",
       "      <td>No Ticker Found</td>\n",
       "    </tr>\n",
       "    <tr>\n",
       "      <th>4</th>\n",
       "      <td>4</td>\n",
       "      <td>waysotheraccount</td>\n",
       "      <td>watch jd test that high of day</td>\n",
       "      <td>2023-07-13T15:51:16.112000+00:00</td>\n",
       "      <td>No Ticker Found</td>\n",
       "    </tr>\n",
       "    <tr>\n",
       "      <th>...</th>\n",
       "      <td>...</td>\n",
       "      <td>...</td>\n",
       "      <td>...</td>\n",
       "      <td>...</td>\n",
       "      <td>...</td>\n",
       "    </tr>\n",
       "    <tr>\n",
       "      <th>5884</th>\n",
       "      <td>5884</td>\n",
       "      <td>waxui</td>\n",
       "      <td>BULLPRINTER Planned Plays are posted above^ Pe...</td>\n",
       "      <td>2023-12-04T00:51:05.771000+00:00</td>\n",
       "      <td>No Ticker Found</td>\n",
       "    </tr>\n",
       "    <tr>\n",
       "      <th>5885</th>\n",
       "      <td>5885</td>\n",
       "      <td>waysotheraccount</td>\n",
       "      <td>taking some some tlry 2 c lottos at 17/18 for ...</td>\n",
       "      <td>2023-07-27T14:54:50.002000+00:00</td>\n",
       "      <td>Buy TLRY. The user is taking some lotto positi...</td>\n",
       "    </tr>\n",
       "    <tr>\n",
       "      <th>5886</th>\n",
       "      <td>5886</td>\n",
       "      <td>MEE6</td>\n",
       "      <td>Good work &lt;@395362132432257025&gt; you just advan...</td>\n",
       "      <td>2023-08-24T23:38:40.328000+00:00</td>\n",
       "      <td>No Ticker Found</td>\n",
       "    </tr>\n",
       "    <tr>\n",
       "      <th>5887</th>\n",
       "      <td>5887</td>\n",
       "      <td>Waxui Alerts 🍭</td>\n",
       "      <td>COST Swing idea Of course still keeping en eye...</td>\n",
       "      <td>2023-06-11T20:35:23.205000+00:00</td>\n",
       "      <td>Neither No Ticker Found</td>\n",
       "    </tr>\n",
       "    <tr>\n",
       "      <th>5888</th>\n",
       "      <td>5888</td>\n",
       "      <td>Waxui Alerts 🍭</td>\n",
       "      <td>Done for todayNo swings0-1 on the day Praying ...</td>\n",
       "      <td>2023-11-13T18:44:59.819000+00:00</td>\n",
       "      <td>No Ticker Found</td>\n",
       "    </tr>\n",
       "  </tbody>\n",
       "</table>\n",
       "<p>5889 rows × 5 columns</p>\n",
       "</div>"
      ],
      "text/plain": [
       "      Unnamed: 0          Username  \\\n",
       "0              0    Waxui Alerts 🍭   \n",
       "1              1    Waxui Alerts 🍭   \n",
       "2              2    Waxui Alerts 🍭   \n",
       "3              3     Market Bishop   \n",
       "4              4  waysotheraccount   \n",
       "...          ...               ...   \n",
       "5884        5884             waxui   \n",
       "5885        5885  waysotheraccount   \n",
       "5886        5886              MEE6   \n",
       "5887        5887    Waxui Alerts 🍭   \n",
       "5888        5888    Waxui Alerts 🍭   \n",
       "\n",
       "                                                Message  \\\n",
       "0     AMD Day Trade idea Bit of an early Lotto idea ...   \n",
       "1                           Closed SNOW hereSolid catch   \n",
       "2                                Chip Chop Sitting back   \n",
       "3                                          I'm entering   \n",
       "4                        watch jd test that high of day   \n",
       "...                                                 ...   \n",
       "5884  BULLPRINTER Planned Plays are posted above^ Pe...   \n",
       "5885  taking some some tlry 2 c lottos at 17/18 for ...   \n",
       "5886  Good work <@395362132432257025> you just advan...   \n",
       "5887  COST Swing idea Of course still keeping en eye...   \n",
       "5888  Done for todayNo swings0-1 on the day Praying ...   \n",
       "\n",
       "                             Timestamp  \\\n",
       "0     2024-01-24T22:46:10.450000+00:00   \n",
       "1     2023-07-14T14:05:13.101000+00:00   \n",
       "2     2023-12-15T17:20:50.715000+00:00   \n",
       "3     2024-03-22T16:23:53.904000+00:00   \n",
       "4     2023-07-13T15:51:16.112000+00:00   \n",
       "...                                ...   \n",
       "5884  2023-12-04T00:51:05.771000+00:00   \n",
       "5885  2023-07-27T14:54:50.002000+00:00   \n",
       "5886  2023-08-24T23:38:40.328000+00:00   \n",
       "5887  2023-06-11T20:35:23.205000+00:00   \n",
       "5888  2023-11-13T18:44:59.819000+00:00   \n",
       "\n",
       "                                       ChatGPT_Response  \n",
       "0     Neither No Ticker Found. The message does not ...  \n",
       "1                                       No Ticker Found  \n",
       "2                                       No Ticker Found  \n",
       "3                                       No Ticker Found  \n",
       "4                                       No Ticker Found  \n",
       "...                                                 ...  \n",
       "5884                                    No Ticker Found  \n",
       "5885  Buy TLRY. The user is taking some lotto positi...  \n",
       "5886                                    No Ticker Found  \n",
       "5887                            Neither No Ticker Found  \n",
       "5888                                    No Ticker Found  \n",
       "\n",
       "[5889 rows x 5 columns]"
      ]
     },
     "execution_count": 102,
     "metadata": {},
     "output_type": "execute_result"
    }
   ],
   "source": [
    "gpt_path = r\"C:\\Users\\amoog\\Desktop\\Project_X\\Project_X\\gpt_msg_df.csv\"\n",
    "gpt_df = pd.read_csv(gpt_path, encoding = 'utf-8')\n",
    "gpt_df"
   ]
  },
  {
   "cell_type": "code",
   "execution_count": 103,
   "metadata": {},
   "outputs": [],
   "source": [
    "def return_stock(message):\n",
    "    for substring in ['!', '.', ':', ',', '\\r', '\\n', '*','_','$','[',']','None','0DTE','DD']:\n",
    "        message = message.replace(substring, '')\n",
    "    if len(message.split())>1:\n",
    "        message = message.split()[1]\n",
    "    if message.strip() in ['Buy','-','Ticker'] or len(message.strip()) > 5:\n",
    "        return ''\n",
    "    return message"
   ]
  },
  {
   "cell_type": "code",
   "execution_count": 104,
   "metadata": {},
   "outputs": [],
   "source": [
    "def buy_or_sell(message):\n",
    "    return message.split()[0]"
   ]
  },
  {
   "cell_type": "code",
   "execution_count": 105,
   "metadata": {
    "scrolled": true
   },
   "outputs": [],
   "source": [
    "gpt_df['Stock'] = gpt_df['ChatGPT_Response'].apply(lambda x: return_stock(x))\n",
    "gpt_df['Buy or Sell'] = gpt_df['ChatGPT_Response'].apply(lambda x: buy_or_sell(x))\n",
    "\n",
    "stock_df = gpt_df[(gpt_df['Stock']!='') & (gpt_df['Buy or Sell'] != 'Neither')]\n"
   ]
  },
  {
   "cell_type": "code",
   "execution_count": 108,
   "metadata": {
    "scrolled": false
   },
   "outputs": [
    {
     "data": {
      "text/plain": [
       "2335"
      ]
     },
     "execution_count": 108,
     "metadata": {},
     "output_type": "execute_result"
    }
   ],
   "source": [
    "len(stock_df)"
   ]
  },
  {
   "cell_type": "code",
   "execution_count": null,
   "metadata": {},
   "outputs": [],
   "source": []
  }
 ],
 "metadata": {
  "kernelspec": {
   "display_name": "Python 3",
   "language": "python",
   "name": "python3"
  },
  "language_info": {
   "codemirror_mode": {
    "name": "ipython",
    "version": 3
   },
   "file_extension": ".py",
   "mimetype": "text/x-python",
   "name": "python",
   "nbconvert_exporter": "python",
   "pygments_lexer": "ipython3",
   "version": "3.7.7"
  }
 },
 "nbformat": 4,
 "nbformat_minor": 4
}
